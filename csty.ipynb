{
 "cells": [
  {
   "cell_type": "code",
   "execution_count": null,
   "metadata": {},
   "outputs": [],
   "source": [
    "import pandas as pd\n",
    "import matplotlib\n",
    "import matplotlib.pyplot as plt\n",
    "import numpy as np\n",
    "df_coord=pd.read_csv('case1.csv')"
   ]
  },
  {
   "cell_type": "code",
   "execution_count": 6,
   "metadata": {},
   "outputs": [
    {
     "data": {
      "image/png": "[encoded data removed]",
      "text/plain": [
       "<Figure size 432x288 with 1 Axes>"
      ]
     },
     "metadata": {
      "needs_background": "light"
     },
     "output_type": "display_data"
    }
   ],
   "source": [
    "\n",
    "plt.scatter(df_coord['Longitude'], df_coord['Latitude'])\n",
    "plt.xlabel('Latitude', fontsize=18)\n",
    "plt.ylabel('Longitude', fontsize=18)\n",
    "plt.grid()\n",
    "plt.show()"
   ]
  },
  {
   "cell_type": "code",
   "execution_count": 9,
   "metadata": {},
   "outputs": [],
   "source": [
    "from sklearn.cluster import KMeans # Importing KMeans\n",
    "# Creating an instance of KMeans to find 10 clusters\n",
    "kmeans_1 = KMeans(n_clusters=10)\n",
    "# Using fit_predict to cluster the dataset\n",
    "X = df_coord[['Longitude','Latitude']].values\n",
    "predictions = kmeans_1.fit_predict(X)"
   ]
  },
  {
   "cell_type": "code",
   "execution_count": null,
   "metadata": {},
   "outputs": [],
   "source": [
    "clustered = pd.concat([df_coord.reset_index(), \n",
    "                       pd.DataFrame({'Cluster':predictions})], \n",
    "                      axis=1)"
   ]
  },
  {
   "cell_type": "code",
   "execution_count": 10,
   "metadata": {},
   "outputs": [],
   "source": [
    "conditions = [\n",
    "    clustered['Cluster'] == 0, \n",
    "    clustered['Cluster'] == 1,\n",
    "    clustered['Cluster'] == 2,\n",
    "    clustered['Cluster'] == 3,\n",
    "    clustered['Cluster'] == 4,\n",
    "    clustered['Cluster'] == 5,\n",
    "    clustered['Cluster'] == 6,\n",
    "    clustered['Cluster'] == 7,\n",
    "    clustered['Cluster'] == 8,\n",
    "    clustered['Cluster'] == 9 ]\n",
    "choices = ['Monday', 'Tuesday', 'Wednesday', 'Thursday', 'Friday','Saturday', \n",
    "           'Sunday', 'Monday', 'Tuesday', 'Wednesday' ]\n",
    "clustered['Vacation Day'] = np.select(conditions, choices, default='black')"
   ]
  },
  {
   "cell_type": "code",
   "execution_count": 11,
   "metadata": {},
   "outputs": [
    {
     "data": {
      "text/plain": [
       "<matplotlib.collections.PathCollection at 0x7f9871842f28>"
      ]
     },
     "execution_count": 11,
     "metadata": {},
     "output_type": "execute_result"
    },
    {
     "data": {
      "image/png": "[encoded data removed]",
      "text/plain": [
       "<Figure size 432x288 with 1 Axes>"
      ]
     },
     "metadata": {
      "needs_background": "light"
     },
     "output_type": "display_data"
    }
   ],
   "source": [
    "plt.scatter(clustered['Longitude'], clustered['Latitude'], c=clustered['Cluster'])"
   ]
  },
  {
   "cell_type": "code",
   "execution_count": null,
   "metadata": {},
   "outputs": [],
   "source": []
  },
  {
   "cell_type": "code",
   "execution_count": null,
   "metadata": {},
   "outputs": [],
   "source": []
  },
  {
   "cell_type": "code",
   "execution_count": null,
   "metadata": {},
   "outputs": [],
   "source": []
  }
 ],
 "metadata": {
  "kernelspec": {
   "display_name": "Python 3.6",
   "language": "python",
   "name": "python36"
  },
  "language_info": {
   "codemirror_mode": {
    "name": "ipython",
    "version": 3
   },
   "file_extension": ".py",
   "mimetype": "text/x-python",
   "name": "python",
   "nbconvert_exporter": "python",
   "pygments_lexer": "ipython3",
   "version": "3.6.6"
  }
 },
 "nbformat": 4,
 "nbformat_minor": 2
}
